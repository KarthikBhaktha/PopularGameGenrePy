{
 "cells": [
  {
   "cell_type": "code",
   "execution_count": 186,
   "metadata": {},
   "outputs": [],
   "source": [
    "import pandas as pd\n",
    "import numpy as np\n",
    "import matplotlib.pyplot as plt\n",
    "%matplotlib inline"
   ]
  },
  {
   "cell_type": "code",
   "execution_count": 187,
   "metadata": {},
   "outputs": [
    {
     "data": {
      "text/plain": [
       "platform           object\n",
       "score             float64\n",
       "genre              object\n",
       "editors_choice     object\n",
       "release_year        int64\n",
       "dtype: object"
      ]
     },
     "execution_count": 187,
     "metadata": {},
     "output_type": "execute_result"
    }
   ],
   "source": [
    "df = pd.read_csv('C:\\\\Users\\\\kats1\\\\OneDrive\\\\Documents\\\\GitHub\\\\PopularGameGenrePy\\\\ign.csv', header=0, index_col=0)\n",
    "#df.set_index('ID')\n",
    "# df.index.name = 'ID'\n",
    "# df.describe()\n",
    "# df.head()\n",
    "df.index+=1\n",
    "df.drop(['url','release_month','release_day','title','score_phrase'], axis=1,inplace=True)\n",
    "\n",
    "df.dtypes"
   ]
  },
  {
   "cell_type": "code",
   "execution_count": 188,
   "metadata": {},
   "outputs": [
    {
     "data": {
      "text/plain": [
       "pandas.core.frame.DataFrame"
      ]
     },
     "execution_count": 188,
     "metadata": {},
     "output_type": "execute_result"
    }
   ],
   "source": [
    "df.head(50)\n",
    "sort_by_year = df.sort_values(['release_year','platform','genre'])\n",
    "\n",
    "#sort_by_year = pd.DataFrame(sort_by_year)\n",
    "type(sort_by_year)"
   ]
  },
  {
   "cell_type": "code",
   "execution_count": 189,
   "metadata": {},
   "outputs": [
    {
     "data": {
      "text/html": [
       "<div>\n",
       "<style scoped>\n",
       "    .dataframe tbody tr th:only-of-type {\n",
       "        vertical-align: middle;\n",
       "    }\n",
       "\n",
       "    .dataframe tbody tr th {\n",
       "        vertical-align: top;\n",
       "    }\n",
       "\n",
       "    .dataframe thead th {\n",
       "        text-align: right;\n",
       "    }\n",
       "</style>\n",
       "<table border=\"1\" class=\"dataframe\">\n",
       "  <thead>\n",
       "    <tr style=\"text-align: right;\">\n",
       "      <th></th>\n",
       "      <th>platform</th>\n",
       "      <th>score</th>\n",
       "      <th>genre</th>\n",
       "      <th>editors_choice</th>\n",
       "      <th>release_year</th>\n",
       "    </tr>\n",
       "  </thead>\n",
       "  <tbody>\n",
       "    <tr>\n",
       "      <th>517</th>\n",
       "      <td>Xbox 360</td>\n",
       "      <td>8.5</td>\n",
       "      <td>Adventure</td>\n",
       "      <td>N</td>\n",
       "      <td>1970</td>\n",
       "    </tr>\n",
       "    <tr>\n",
       "      <th>589</th>\n",
       "      <td>Nintendo 64</td>\n",
       "      <td>6.5</td>\n",
       "      <td>Action</td>\n",
       "      <td>N</td>\n",
       "      <td>1996</td>\n",
       "    </tr>\n",
       "    <tr>\n",
       "      <th>484</th>\n",
       "      <td>Nintendo 64</td>\n",
       "      <td>4.1</td>\n",
       "      <td>Fighting</td>\n",
       "      <td>N</td>\n",
       "      <td>1996</td>\n",
       "    </tr>\n",
       "    <tr>\n",
       "      <th>591</th>\n",
       "      <td>Nintendo 64</td>\n",
       "      <td>6.5</td>\n",
       "      <td>Fighting</td>\n",
       "      <td>N</td>\n",
       "      <td>1996</td>\n",
       "    </tr>\n",
       "    <tr>\n",
       "      <th>489</th>\n",
       "      <td>Nintendo 64</td>\n",
       "      <td>8.2</td>\n",
       "      <td>Flight</td>\n",
       "      <td>N</td>\n",
       "      <td>1996</td>\n",
       "    </tr>\n",
       "  </tbody>\n",
       "</table>\n",
       "</div>"
      ],
      "text/plain": [
       "        platform  score      genre editors_choice  release_year\n",
       "517     Xbox 360    8.5  Adventure              N          1970\n",
       "589  Nintendo 64    6.5     Action              N          1996\n",
       "484  Nintendo 64    4.1   Fighting              N          1996\n",
       "591  Nintendo 64    6.5   Fighting              N          1996\n",
       "489  Nintendo 64    8.2     Flight              N          1996"
      ]
     },
     "execution_count": 189,
     "metadata": {},
     "output_type": "execute_result"
    }
   ],
   "source": [
    "sort_by_year.head()"
   ]
  },
  {
   "cell_type": "code",
   "execution_count": 190,
   "metadata": {},
   "outputs": [
    {
     "data": {
      "text/html": [
       "<div>\n",
       "<style scoped>\n",
       "    .dataframe tbody tr th:only-of-type {\n",
       "        vertical-align: middle;\n",
       "    }\n",
       "\n",
       "    .dataframe tbody tr th {\n",
       "        vertical-align: top;\n",
       "    }\n",
       "\n",
       "    .dataframe thead th {\n",
       "        text-align: right;\n",
       "    }\n",
       "</style>\n",
       "<table border=\"1\" class=\"dataframe\">\n",
       "  <thead>\n",
       "    <tr style=\"text-align: right;\">\n",
       "      <th></th>\n",
       "      <th>platform</th>\n",
       "      <th>score</th>\n",
       "      <th>genre</th>\n",
       "      <th>editors_choice</th>\n",
       "      <th>release_year</th>\n",
       "    </tr>\n",
       "  </thead>\n",
       "  <tbody>\n",
       "    <tr>\n",
       "      <th>517</th>\n",
       "      <td>Xbox 360</td>\n",
       "      <td>8</td>\n",
       "      <td>Adventure</td>\n",
       "      <td>N</td>\n",
       "      <td>1970</td>\n",
       "    </tr>\n",
       "    <tr>\n",
       "      <th>589</th>\n",
       "      <td>Nintendo 64</td>\n",
       "      <td>6</td>\n",
       "      <td>Action</td>\n",
       "      <td>N</td>\n",
       "      <td>1996</td>\n",
       "    </tr>\n",
       "    <tr>\n",
       "      <th>484</th>\n",
       "      <td>Nintendo 64</td>\n",
       "      <td>4</td>\n",
       "      <td>Fighting</td>\n",
       "      <td>N</td>\n",
       "      <td>1996</td>\n",
       "    </tr>\n",
       "    <tr>\n",
       "      <th>591</th>\n",
       "      <td>Nintendo 64</td>\n",
       "      <td>6</td>\n",
       "      <td>Fighting</td>\n",
       "      <td>N</td>\n",
       "      <td>1996</td>\n",
       "    </tr>\n",
       "    <tr>\n",
       "      <th>489</th>\n",
       "      <td>Nintendo 64</td>\n",
       "      <td>8</td>\n",
       "      <td>Flight</td>\n",
       "      <td>N</td>\n",
       "      <td>1996</td>\n",
       "    </tr>\n",
       "  </tbody>\n",
       "</table>\n",
       "</div>"
      ],
      "text/plain": [
       "        platform  score      genre editors_choice  release_year\n",
       "517     Xbox 360      8  Adventure              N          1970\n",
       "589  Nintendo 64      6     Action              N          1996\n",
       "484  Nintendo 64      4   Fighting              N          1996\n",
       "591  Nintendo 64      6   Fighting              N          1996\n",
       "489  Nintendo 64      8     Flight              N          1996"
      ]
     },
     "execution_count": 190,
     "metadata": {},
     "output_type": "execute_result"
    }
   ],
   "source": [
    "sort_by_year.score = sort_by_year.score.astype(int)\n",
    "sort_by_year.head()"
   ]
  },
  {
   "cell_type": "markdown",
   "metadata": {},
   "source": [
    "genre_score_year = sort_by_year[['genre','score','release_year']]\n",
    "genre_score_year = pd.DataFrame(genre_score_year)\n",
    "genre_score_year.head()"
   ]
  },
  {
   "cell_type": "code",
   "execution_count": 191,
   "metadata": {},
   "outputs": [],
   "source": [
    "sort_by_year.drop('editors_choice',axis=1,inplace=True)"
   ]
  },
  {
   "cell_type": "code",
   "execution_count": 192,
   "metadata": {},
   "outputs": [
    {
     "data": {
      "text/html": [
       "<div>\n",
       "<style scoped>\n",
       "    .dataframe tbody tr th:only-of-type {\n",
       "        vertical-align: middle;\n",
       "    }\n",
       "\n",
       "    .dataframe tbody tr th {\n",
       "        vertical-align: top;\n",
       "    }\n",
       "\n",
       "    .dataframe thead th {\n",
       "        text-align: right;\n",
       "    }\n",
       "</style>\n",
       "<table border=\"1\" class=\"dataframe\">\n",
       "  <thead>\n",
       "    <tr style=\"text-align: right;\">\n",
       "      <th></th>\n",
       "      <th>platform</th>\n",
       "      <th>score</th>\n",
       "      <th>genre</th>\n",
       "      <th>release_year</th>\n",
       "    </tr>\n",
       "  </thead>\n",
       "  <tbody>\n",
       "    <tr>\n",
       "      <th>0</th>\n",
       "      <td>Xbox 360</td>\n",
       "      <td>8</td>\n",
       "      <td>Adventure</td>\n",
       "      <td>1970</td>\n",
       "    </tr>\n",
       "    <tr>\n",
       "      <th>1</th>\n",
       "      <td>Nintendo 64</td>\n",
       "      <td>6</td>\n",
       "      <td>Action</td>\n",
       "      <td>1996</td>\n",
       "    </tr>\n",
       "    <tr>\n",
       "      <th>2</th>\n",
       "      <td>Nintendo 64</td>\n",
       "      <td>4</td>\n",
       "      <td>Fighting</td>\n",
       "      <td>1996</td>\n",
       "    </tr>\n",
       "    <tr>\n",
       "      <th>3</th>\n",
       "      <td>Nintendo 64</td>\n",
       "      <td>6</td>\n",
       "      <td>Fighting</td>\n",
       "      <td>1996</td>\n",
       "    </tr>\n",
       "    <tr>\n",
       "      <th>4</th>\n",
       "      <td>Nintendo 64</td>\n",
       "      <td>8</td>\n",
       "      <td>Flight</td>\n",
       "      <td>1996</td>\n",
       "    </tr>\n",
       "    <tr>\n",
       "      <th>5</th>\n",
       "      <td>Nintendo 64</td>\n",
       "      <td>9</td>\n",
       "      <td>Platformer</td>\n",
       "      <td>1996</td>\n",
       "    </tr>\n",
       "    <tr>\n",
       "      <th>6</th>\n",
       "      <td>Nintendo 64</td>\n",
       "      <td>9</td>\n",
       "      <td>Racing</td>\n",
       "      <td>1996</td>\n",
       "    </tr>\n",
       "    <tr>\n",
       "      <th>7</th>\n",
       "      <td>Nintendo 64</td>\n",
       "      <td>4</td>\n",
       "      <td>Racing</td>\n",
       "      <td>1996</td>\n",
       "    </tr>\n",
       "    <tr>\n",
       "      <th>8</th>\n",
       "      <td>Nintendo 64</td>\n",
       "      <td>7</td>\n",
       "      <td>Sports</td>\n",
       "      <td>1996</td>\n",
       "    </tr>\n",
       "    <tr>\n",
       "      <th>9</th>\n",
       "      <td>PC</td>\n",
       "      <td>6</td>\n",
       "      <td>Sports</td>\n",
       "      <td>1996</td>\n",
       "    </tr>\n",
       "  </tbody>\n",
       "</table>\n",
       "</div>"
      ],
      "text/plain": [
       "      platform  score       genre  release_year\n",
       "0     Xbox 360      8   Adventure          1970\n",
       "1  Nintendo 64      6      Action          1996\n",
       "2  Nintendo 64      4    Fighting          1996\n",
       "3  Nintendo 64      6    Fighting          1996\n",
       "4  Nintendo 64      8      Flight          1996\n",
       "5  Nintendo 64      9  Platformer          1996\n",
       "6  Nintendo 64      9      Racing          1996\n",
       "7  Nintendo 64      4      Racing          1996\n",
       "8  Nintendo 64      7      Sports          1996\n",
       "9           PC      6      Sports          1996"
      ]
     },
     "execution_count": 192,
     "metadata": {},
     "output_type": "execute_result"
    }
   ],
   "source": [
    "#sort_by_year.drop(sort_by_year.index[0],inplace=True)\n",
    "sort_by_year.reset_index(drop = True)[:10]\n"
   ]
  },
  {
   "cell_type": "code",
   "execution_count": 193,
   "metadata": {},
   "outputs": [
    {
     "data": {
      "text/html": [
       "<div>\n",
       "<style scoped>\n",
       "    .dataframe tbody tr th:only-of-type {\n",
       "        vertical-align: middle;\n",
       "    }\n",
       "\n",
       "    .dataframe tbody tr th {\n",
       "        vertical-align: top;\n",
       "    }\n",
       "\n",
       "    .dataframe thead th {\n",
       "        text-align: right;\n",
       "    }\n",
       "</style>\n",
       "<table border=\"1\" class=\"dataframe\">\n",
       "  <thead>\n",
       "    <tr style=\"text-align: right;\">\n",
       "      <th></th>\n",
       "      <th>score</th>\n",
       "      <th>release_year</th>\n",
       "    </tr>\n",
       "  </thead>\n",
       "  <tbody>\n",
       "    <tr>\n",
       "      <th>count</th>\n",
       "      <td>18625.000000</td>\n",
       "      <td>18625.000000</td>\n",
       "    </tr>\n",
       "    <tr>\n",
       "      <th>mean</th>\n",
       "      <td>6.627758</td>\n",
       "      <td>2006.515329</td>\n",
       "    </tr>\n",
       "    <tr>\n",
       "      <th>std</th>\n",
       "      <td>1.702287</td>\n",
       "      <td>4.587529</td>\n",
       "    </tr>\n",
       "    <tr>\n",
       "      <th>min</th>\n",
       "      <td>0.000000</td>\n",
       "      <td>1970.000000</td>\n",
       "    </tr>\n",
       "    <tr>\n",
       "      <th>25%</th>\n",
       "      <td>6.000000</td>\n",
       "      <td>2003.000000</td>\n",
       "    </tr>\n",
       "    <tr>\n",
       "      <th>50%</th>\n",
       "      <td>7.000000</td>\n",
       "      <td>2007.000000</td>\n",
       "    </tr>\n",
       "    <tr>\n",
       "      <th>75%</th>\n",
       "      <td>8.000000</td>\n",
       "      <td>2010.000000</td>\n",
       "    </tr>\n",
       "    <tr>\n",
       "      <th>max</th>\n",
       "      <td>10.000000</td>\n",
       "      <td>2016.000000</td>\n",
       "    </tr>\n",
       "  </tbody>\n",
       "</table>\n",
       "</div>"
      ],
      "text/plain": [
       "              score  release_year\n",
       "count  18625.000000  18625.000000\n",
       "mean       6.627758   2006.515329\n",
       "std        1.702287      4.587529\n",
       "min        0.000000   1970.000000\n",
       "25%        6.000000   2003.000000\n",
       "50%        7.000000   2007.000000\n",
       "75%        8.000000   2010.000000\n",
       "max       10.000000   2016.000000"
      ]
     },
     "execution_count": 193,
     "metadata": {},
     "output_type": "execute_result"
    }
   ],
   "source": [
    "sort_by_year.isnull().any()\n",
    "sort_by_year.dropna()\n",
    "sort_by_year.describe()"
   ]
  },
  {
   "cell_type": "code",
   "execution_count": 194,
   "metadata": {},
   "outputs": [],
   "source": [
    "list_genre = sort_by_year['genre'].unique().tolist()"
   ]
  },
  {
   "cell_type": "code",
   "execution_count": 195,
   "metadata": {},
   "outputs": [
    {
     "name": "stdout",
     "output_type": "stream",
     "text": [
      "113\n",
      "['Adventure', 'Action', 'Fighting', 'Flight', 'Platformer', 'Racing', 'Sports', 'Action, Adventure', 'Action, Compilation', 'Compilation', 'Flight, Action', 'Puzzle', 'RPG', 'Racing, Action', 'Shooter', 'Simulation', 'Strategy', 'Wrestling', 'Action, RPG', 'Casino', 'Fighting, Compilation', 'Hunting', 'Music', 'Pinball', 'Puzzle, Action', 'Sports, Action', 'Battle', 'Board', 'Sports, Racing', 'Action, Simulation', 'Flight, Simulation', 'Sports, Simulation', 'Trivia', 'Music, Action', 'Strategy, RPG', 'Fighting, Action', 'Other', 'Party', 'Action, Platformer', 'Puzzle, Adventure', 'Educational, Puzzle', 'Productivity', 'Virtual Pet', 'Racing, Simulation', 'Card, Battle', 'Sports, Editor', 'Music, Editor', 'RPG, Editor', 'Educational, Action', 'Card', 'Card, RPG', 'Fighting, Adventure', 'Wrestling, Simulation', 'RPG, Compilation', 'RPG, Simulation', 'Flight, Racing', 'Sports, Compilation', 'Shooter, Platformer', 'Hunting, Simulation', 'Fighting, RPG', 'Pinball, Compilation', 'Card, Compilation', 'Racing, Compilation', 'Racing, Editor', 'Racing, Shooter', 'Other, Action', 'Puzzle, Compilation', 'Adult, Card', 'Educational', 'Educational, Productivity', 'Educational, Simulation', 'Educational, Trivia', 'Compilation, Compilation', 'Board, Compilation', 'Platformer, Action', 'Action, Editor', 'Hunting, Action', nan, 'Puzzle, Word Game', 'Adventure, Compilation', 'Educational, Card', 'Educational, Adventure', 'Strategy, Compilation', 'Music, Compilation', 'Fighting, Simulation', 'Platformer, Adventure', 'Shooter, RPG', 'Other, Adventure', 'Simulation, Adventure', 'Adventure, Episodic', 'Adventure, Adult', 'Adventure, Platformer', 'Action, Puzzle', 'Sports, Fighting', 'Puzzle, RPG', 'Music, RPG', 'Adventure, Adventure', 'Adventure, RPG', 'Productivity, Action', 'RPG, Action', 'Shooter, First-Person', 'Baseball', 'Compilation, RPG', 'Sports, Baseball', 'Sports, Other', 'Sports, Party', 'Puzzle, Platformer', 'Action, Strategy', 'Music, Adventure', 'Strategy, Simulation', 'Sports, Golf', 'Hardware', 'Shooter, Adventure']\n"
     ]
    }
   ],
   "source": [
    "print(len(list_genre))\n",
    "print(list_genre)"
   ]
  },
  {
   "cell_type": "code",
   "execution_count": 196,
   "metadata": {},
   "outputs": [],
   "source": [
    "replace_genre = {'Action':'Action', 'Action, Adventure':'Action', 'Action, Compilation':'Action', 'Action, Platformer':'Action', 'Action, RPG':'RPG', 'Action, Simulation':'Simulation', 'Adventure':'Adventure', 'Battle':'Action', 'Board':'Strategy', 'Card':'Card', 'Card, Battle':'Strategy', 'Card, RPG':'RPG', 'Casino':'Others', 'Compilation':'Others', 'Educational, Action':'others','Educational, Puzzle':'Strategy', 'Fighting':'Action', 'Fighting, Action':'Action', 'Fighting, Adventure':'Adventure', 'Fighting, Compilation':'Action', 'Flight':'Adventure', 'Flight,Action':'Action', 'Flight, Racing':'Sports', 'Flight, Simulation':'Simulation', 'Hunting':'Sport', 'Music':'Other', 'Music, Action':'Action', 'Music, Editor':'Simulation', 'Other':'Other', 'Party':'Other', 'Pinball':'Sport',\n",
    "                 'Platformer':'Other', 'Productivity':'Other', 'Puzzle':'Strategy', 'Puzzle, Action':'Strategy', 'Puzzle, Adventure':'Strategy', 'RPG':'RPG', 'RPG, Compilation':'RPG', 'RPG, Editor':'RPG',\n",
    "                 'RPG, Simulation':'RPG', 'Racing':'Sport', 'Racing, Action':'Action', 'Racing, Simulation':'Simulation', 'Shooter':'Sport', 'Simulation':'Simulation', 'Sports':'Sport', 'Sports, Action':'Action',\n",
    "                 'Sports, Compilation':'Sport', 'Sports, Editor':'Sport', 'Sports, Racing':'Sport', 'Sports, Simulation':'Simulation', 'Strategy':'Strategy', 'Strategy, RPG':'RPG', 'Trivia':'Other',\n",
    "                 'Virtual Pet':'Simulation', 'Wrestling':'Sport', 'Wrestling, Simulation':'Simulation', 'Action, Editor':'Action', 'Adult, Card':'Other', 'Board, Compilation':'Other', 'Card, Compilation':'Other',\n",
    "                 'Compilation, Compilation':'Compilation', 'Educational':'Other', 'Educational, Productivity':'Other', 'Educational, Simulation':'Other', 'Educational, Trivia':'Strategy',\n",
    "                 'Fighting, RPG':'RPG', 'Hunting, Action':'Action', 'Hunting, Simulation':'Simulation', 'Other, Action':'Action', 'Pinball, Compilation':'Other', 'Platformer, Action':'Action',\n",
    "                 'Puzzle, Compilation':'Strategy', 'Racing, Compilation':'Sport', 'Racing, Editor':'Sport', 'Racing, Shooter':'Action', 'Shooter, Platformer':'Action',\n",
    "                 'Puzzle, Word Game':'Other', 'Adventure, Compilation':'Action', 'Educational, Card':'Other', 'Educational, Adventure':'Other', 'Strategy, Compilation':'Strategy',\n",
    "                 'Music, Compilation':'Other', 'Fighting, Simulation':'Simulation', 'Platformer, Adventure':'Simulation', 'Shooter, RPG':'RPG', 'Other, Adventure':'Other', 'Simulation, Adventure':'Simulation',\n",
    "                 'Adventure, Episodic':'Simulation', 'Adventure, Adult':'Simulation', 'Adventure, Platformer':'Simulation', 'Action, Puzzle':'Other', 'Sports, Fighting':'Sport', 'Puzzle, RPG':'RPG',\n",
    "                 'Music, RPG':'RPG', 'Adventure, Adventure':'Action', 'Adventure, RPG':'RPG', 'Productivity, Action':'Action', 'RPG, Action':'RPG', 'Shooter, First-Person':'Action',\n",
    "                 'Baseball':'Sport', 'Compilation, RPG':'RPG', 'Sports, Baseball':'Sport', 'Sports, Other':'Sport', 'Sports, Party':'Sport', 'Puzzle, Platformer':'Other', 'Action, Strategy':'Strategy',\n",
    "                 'Music, Adventure':'Other', 'Strategy, Simulation':'Strategy', 'Sports, Golf':'Other', 'Hardware':'Other', 'Shooter, Adventure':'Action'}                                                                                          \n",
    "\n",
    "genres = sort_by_year.genre.map(replace_genre)    "
   ]
  },
  {
   "cell_type": "code",
   "execution_count": 197,
   "metadata": {},
   "outputs": [
    {
     "data": {
      "text/plain": [
       "517      Adventure\n",
       "589         Action\n",
       "484         Action\n",
       "591         Action\n",
       "489      Adventure\n",
       "515          Other\n",
       "485          Sport\n",
       "487          Sport\n",
       "590          Sport\n",
       "467          Sport\n",
       "403         Action\n",
       "405         Action\n",
       "414         Action\n",
       "419         Action\n",
       "420         Action\n",
       "423         Action\n",
       "427         Action\n",
       "437         Action\n",
       "440         Action\n",
       "441         Action\n",
       "443         Action\n",
       "448         Action\n",
       "452         Action\n",
       "454         Action\n",
       "455         Action\n",
       "456         Action\n",
       "459         Action\n",
       "460         Action\n",
       "462         Action\n",
       "469         Action\n",
       "           ...    \n",
       "18624    Adventure\n",
       "18496       Action\n",
       "18566       Action\n",
       "18417        Other\n",
       "18423        Other\n",
       "18424        Other\n",
       "18583        Other\n",
       "18355     Strategy\n",
       "18452          RPG\n",
       "18456        Sport\n",
       "18475        Sport\n",
       "18483        Sport\n",
       "18538        Sport\n",
       "18589        Sport\n",
       "18460        Sport\n",
       "18497        Sport\n",
       "18518        Sport\n",
       "18549        Sport\n",
       "18552        Sport\n",
       "18557        Sport\n",
       "18572        Sport\n",
       "18603        Sport\n",
       "18612        Sport\n",
       "18598       Action\n",
       "18387        Sport\n",
       "18453        Sport\n",
       "18465        Sport\n",
       "18469        Sport\n",
       "18608       Action\n",
       "18420          RPG\n",
       "Name: genre, Length: 18625, dtype: object"
      ]
     },
     "execution_count": 197,
     "metadata": {},
     "output_type": "execute_result"
    }
   ],
   "source": [
    "genres"
   ]
  },
  {
   "cell_type": "code",
   "execution_count": null,
   "metadata": {},
   "outputs": [],
   "source": []
  }
 ],
 "metadata": {
  "kernelspec": {
   "display_name": "Python 3",
   "language": "python",
   "name": "python3"
  },
  "language_info": {
   "codemirror_mode": {
    "name": "ipython",
    "version": 3
   },
   "file_extension": ".py",
   "mimetype": "text/x-python",
   "name": "python",
   "nbconvert_exporter": "python",
   "pygments_lexer": "ipython3",
   "version": "3.6.4"
  }
 },
 "nbformat": 4,
 "nbformat_minor": 2
}
