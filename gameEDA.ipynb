{
 "cells": [
  {
   "cell_type": "code",
   "execution_count": 2,
   "metadata": {},
   "outputs": [],
   "source": [
    "import pandas as pd\n",
    "import numpy as np\n",
    "import matplotlib.pyplot as plt\n",
    "%matplotlib inline"
   ]
  },
  {
   "cell_type": "code",
   "execution_count": 3,
   "metadata": {},
   "outputs": [
    {
     "data": {
      "text/plain": [
       "platform           object\n",
       "score             float64\n",
       "genre              object\n",
       "editors_choice     object\n",
       "release_year        int64\n",
       "dtype: object"
      ]
     },
     "execution_count": 3,
     "metadata": {},
     "output_type": "execute_result"
    }
   ],
   "source": [
    "df = pd.read_csv('C:\\\\Users\\\\kats1\\\\OneDrive\\\\Documents\\\\GitHub\\\\PopularGameGenrePy\\\\ign.csv', header=0, index_col=0)\n",
    "#df.set_index('ID')\n",
    "# df.index.name = 'ID'\n",
    "# df.describe()\n",
    "# df.head()\n",
    "df.index+=1\n",
    "df.drop(['url','release_month','release_day','title','score_phrase'], axis=1,inplace=True)\n",
    "\n",
    "df.dtypes"
   ]
  },
  {
   "cell_type": "code",
   "execution_count": 4,
   "metadata": {},
   "outputs": [
    {
     "data": {
      "text/plain": [
       "pandas.core.frame.DataFrame"
      ]
     },
     "execution_count": 4,
     "metadata": {},
     "output_type": "execute_result"
    }
   ],
   "source": [
    "df.head(50)\n",
    "sort_by_year = df.sort_values(['release_year','platform','genre'])\n",
    "\n",
    "#sort_by_year = pd.DataFrame(sort_by_year)\n",
    "type(sort_by_year)"
   ]
  },
  {
   "cell_type": "code",
   "execution_count": 5,
   "metadata": {},
   "outputs": [
    {
     "data": {
      "text/html": [
       "<div>\n",
       "<style scoped>\n",
       "    .dataframe tbody tr th:only-of-type {\n",
       "        vertical-align: middle;\n",
       "    }\n",
       "\n",
       "    .dataframe tbody tr th {\n",
       "        vertical-align: top;\n",
       "    }\n",
       "\n",
       "    .dataframe thead th {\n",
       "        text-align: right;\n",
       "    }\n",
       "</style>\n",
       "<table border=\"1\" class=\"dataframe\">\n",
       "  <thead>\n",
       "    <tr style=\"text-align: right;\">\n",
       "      <th></th>\n",
       "      <th>platform</th>\n",
       "      <th>score</th>\n",
       "      <th>genre</th>\n",
       "      <th>editors_choice</th>\n",
       "      <th>release_year</th>\n",
       "    </tr>\n",
       "  </thead>\n",
       "  <tbody>\n",
       "    <tr>\n",
       "      <th>517</th>\n",
       "      <td>Xbox 360</td>\n",
       "      <td>8.5</td>\n",
       "      <td>Adventure</td>\n",
       "      <td>N</td>\n",
       "      <td>1970</td>\n",
       "    </tr>\n",
       "    <tr>\n",
       "      <th>589</th>\n",
       "      <td>Nintendo 64</td>\n",
       "      <td>6.5</td>\n",
       "      <td>Action</td>\n",
       "      <td>N</td>\n",
       "      <td>1996</td>\n",
       "    </tr>\n",
       "    <tr>\n",
       "      <th>484</th>\n",
       "      <td>Nintendo 64</td>\n",
       "      <td>4.1</td>\n",
       "      <td>Fighting</td>\n",
       "      <td>N</td>\n",
       "      <td>1996</td>\n",
       "    </tr>\n",
       "    <tr>\n",
       "      <th>591</th>\n",
       "      <td>Nintendo 64</td>\n",
       "      <td>6.5</td>\n",
       "      <td>Fighting</td>\n",
       "      <td>N</td>\n",
       "      <td>1996</td>\n",
       "    </tr>\n",
       "    <tr>\n",
       "      <th>489</th>\n",
       "      <td>Nintendo 64</td>\n",
       "      <td>8.2</td>\n",
       "      <td>Flight</td>\n",
       "      <td>N</td>\n",
       "      <td>1996</td>\n",
       "    </tr>\n",
       "  </tbody>\n",
       "</table>\n",
       "</div>"
      ],
      "text/plain": [
       "        platform  score      genre editors_choice  release_year\n",
       "517     Xbox 360    8.5  Adventure              N          1970\n",
       "589  Nintendo 64    6.5     Action              N          1996\n",
       "484  Nintendo 64    4.1   Fighting              N          1996\n",
       "591  Nintendo 64    6.5   Fighting              N          1996\n",
       "489  Nintendo 64    8.2     Flight              N          1996"
      ]
     },
     "execution_count": 5,
     "metadata": {},
     "output_type": "execute_result"
    }
   ],
   "source": [
    "sort_by_year.head()"
   ]
  },
  {
   "cell_type": "code",
   "execution_count": 6,
   "metadata": {},
   "outputs": [
    {
     "data": {
      "text/html": [
       "<div>\n",
       "<style scoped>\n",
       "    .dataframe tbody tr th:only-of-type {\n",
       "        vertical-align: middle;\n",
       "    }\n",
       "\n",
       "    .dataframe tbody tr th {\n",
       "        vertical-align: top;\n",
       "    }\n",
       "\n",
       "    .dataframe thead th {\n",
       "        text-align: right;\n",
       "    }\n",
       "</style>\n",
       "<table border=\"1\" class=\"dataframe\">\n",
       "  <thead>\n",
       "    <tr style=\"text-align: right;\">\n",
       "      <th></th>\n",
       "      <th>platform</th>\n",
       "      <th>score</th>\n",
       "      <th>genre</th>\n",
       "      <th>editors_choice</th>\n",
       "      <th>release_year</th>\n",
       "    </tr>\n",
       "  </thead>\n",
       "  <tbody>\n",
       "    <tr>\n",
       "      <th>18572</th>\n",
       "      <td>Xbox One</td>\n",
       "      <td>9</td>\n",
       "      <td>Shooter</td>\n",
       "      <td>Y</td>\n",
       "      <td>2016</td>\n",
       "    </tr>\n",
       "    <tr>\n",
       "      <th>18603</th>\n",
       "      <td>Xbox One</td>\n",
       "      <td>7</td>\n",
       "      <td>Shooter</td>\n",
       "      <td>N</td>\n",
       "      <td>2016</td>\n",
       "    </tr>\n",
       "    <tr>\n",
       "      <th>18612</th>\n",
       "      <td>Xbox One</td>\n",
       "      <td>5</td>\n",
       "      <td>Shooter</td>\n",
       "      <td>N</td>\n",
       "      <td>2016</td>\n",
       "    </tr>\n",
       "    <tr>\n",
       "      <th>18598</th>\n",
       "      <td>Xbox One</td>\n",
       "      <td>4</td>\n",
       "      <td>Shooter, Adventure</td>\n",
       "      <td>N</td>\n",
       "      <td>2016</td>\n",
       "    </tr>\n",
       "    <tr>\n",
       "      <th>18387</th>\n",
       "      <td>Xbox One</td>\n",
       "      <td>8</td>\n",
       "      <td>Sports</td>\n",
       "      <td>N</td>\n",
       "      <td>2016</td>\n",
       "    </tr>\n",
       "    <tr>\n",
       "      <th>18453</th>\n",
       "      <td>Xbox One</td>\n",
       "      <td>8</td>\n",
       "      <td>Sports</td>\n",
       "      <td>N</td>\n",
       "      <td>2016</td>\n",
       "    </tr>\n",
       "    <tr>\n",
       "      <th>18465</th>\n",
       "      <td>Xbox One</td>\n",
       "      <td>9</td>\n",
       "      <td>Sports</td>\n",
       "      <td>Y</td>\n",
       "      <td>2016</td>\n",
       "    </tr>\n",
       "    <tr>\n",
       "      <th>18469</th>\n",
       "      <td>Xbox One</td>\n",
       "      <td>8</td>\n",
       "      <td>Sports</td>\n",
       "      <td>N</td>\n",
       "      <td>2016</td>\n",
       "    </tr>\n",
       "    <tr>\n",
       "      <th>18608</th>\n",
       "      <td>iPhone</td>\n",
       "      <td>7</td>\n",
       "      <td>Battle</td>\n",
       "      <td>N</td>\n",
       "      <td>2016</td>\n",
       "    </tr>\n",
       "    <tr>\n",
       "      <th>18420</th>\n",
       "      <td>iPhone</td>\n",
       "      <td>5</td>\n",
       "      <td>RPG</td>\n",
       "      <td>N</td>\n",
       "      <td>2016</td>\n",
       "    </tr>\n",
       "  </tbody>\n",
       "</table>\n",
       "</div>"
      ],
      "text/plain": [
       "       platform  score               genre editors_choice  release_year\n",
       "18572  Xbox One      9             Shooter              Y          2016\n",
       "18603  Xbox One      7             Shooter              N          2016\n",
       "18612  Xbox One      5             Shooter              N          2016\n",
       "18598  Xbox One      4  Shooter, Adventure              N          2016\n",
       "18387  Xbox One      8              Sports              N          2016\n",
       "18453  Xbox One      8              Sports              N          2016\n",
       "18465  Xbox One      9              Sports              Y          2016\n",
       "18469  Xbox One      8              Sports              N          2016\n",
       "18608    iPhone      7              Battle              N          2016\n",
       "18420    iPhone      5                 RPG              N          2016"
      ]
     },
     "execution_count": 6,
     "metadata": {},
     "output_type": "execute_result"
    }
   ],
   "source": [
    "sort_by_year.score = sort_by_year.score.astype(int)\n",
    "sort_by_year.tail(10)"
   ]
  },
  {
   "cell_type": "markdown",
   "metadata": {},
   "source": [
    "genre_score_year = sort_by_year[['genre','score','release_year']]\n",
    "genre_score_year = pd.DataFrame(genre_score_year)\n",
    "genre_score_year.head()"
   ]
  },
  {
   "cell_type": "code",
   "execution_count": 7,
   "metadata": {},
   "outputs": [],
   "source": [
    "sort_by_year.drop('editors_choice',axis=1,inplace=True)"
   ]
  },
  {
   "cell_type": "code",
   "execution_count": 8,
   "metadata": {},
   "outputs": [
    {
     "data": {
      "text/html": [
       "<div>\n",
       "<style scoped>\n",
       "    .dataframe tbody tr th:only-of-type {\n",
       "        vertical-align: middle;\n",
       "    }\n",
       "\n",
       "    .dataframe tbody tr th {\n",
       "        vertical-align: top;\n",
       "    }\n",
       "\n",
       "    .dataframe thead th {\n",
       "        text-align: right;\n",
       "    }\n",
       "</style>\n",
       "<table border=\"1\" class=\"dataframe\">\n",
       "  <thead>\n",
       "    <tr style=\"text-align: right;\">\n",
       "      <th></th>\n",
       "      <th>platform</th>\n",
       "      <th>score</th>\n",
       "      <th>genre</th>\n",
       "      <th>release_year</th>\n",
       "    </tr>\n",
       "  </thead>\n",
       "  <tbody>\n",
       "    <tr>\n",
       "      <th>18615</th>\n",
       "      <td>Xbox One</td>\n",
       "      <td>9</td>\n",
       "      <td>Shooter</td>\n",
       "      <td>2016</td>\n",
       "    </tr>\n",
       "    <tr>\n",
       "      <th>18616</th>\n",
       "      <td>Xbox One</td>\n",
       "      <td>7</td>\n",
       "      <td>Shooter</td>\n",
       "      <td>2016</td>\n",
       "    </tr>\n",
       "    <tr>\n",
       "      <th>18617</th>\n",
       "      <td>Xbox One</td>\n",
       "      <td>5</td>\n",
       "      <td>Shooter</td>\n",
       "      <td>2016</td>\n",
       "    </tr>\n",
       "    <tr>\n",
       "      <th>18618</th>\n",
       "      <td>Xbox One</td>\n",
       "      <td>4</td>\n",
       "      <td>Shooter, Adventure</td>\n",
       "      <td>2016</td>\n",
       "    </tr>\n",
       "    <tr>\n",
       "      <th>18619</th>\n",
       "      <td>Xbox One</td>\n",
       "      <td>8</td>\n",
       "      <td>Sports</td>\n",
       "      <td>2016</td>\n",
       "    </tr>\n",
       "    <tr>\n",
       "      <th>18620</th>\n",
       "      <td>Xbox One</td>\n",
       "      <td>8</td>\n",
       "      <td>Sports</td>\n",
       "      <td>2016</td>\n",
       "    </tr>\n",
       "    <tr>\n",
       "      <th>18621</th>\n",
       "      <td>Xbox One</td>\n",
       "      <td>9</td>\n",
       "      <td>Sports</td>\n",
       "      <td>2016</td>\n",
       "    </tr>\n",
       "    <tr>\n",
       "      <th>18622</th>\n",
       "      <td>Xbox One</td>\n",
       "      <td>8</td>\n",
       "      <td>Sports</td>\n",
       "      <td>2016</td>\n",
       "    </tr>\n",
       "    <tr>\n",
       "      <th>18623</th>\n",
       "      <td>iPhone</td>\n",
       "      <td>7</td>\n",
       "      <td>Battle</td>\n",
       "      <td>2016</td>\n",
       "    </tr>\n",
       "    <tr>\n",
       "      <th>18624</th>\n",
       "      <td>iPhone</td>\n",
       "      <td>5</td>\n",
       "      <td>RPG</td>\n",
       "      <td>2016</td>\n",
       "    </tr>\n",
       "  </tbody>\n",
       "</table>\n",
       "</div>"
      ],
      "text/plain": [
       "       platform  score               genre  release_year\n",
       "18615  Xbox One      9             Shooter          2016\n",
       "18616  Xbox One      7             Shooter          2016\n",
       "18617  Xbox One      5             Shooter          2016\n",
       "18618  Xbox One      4  Shooter, Adventure          2016\n",
       "18619  Xbox One      8              Sports          2016\n",
       "18620  Xbox One      8              Sports          2016\n",
       "18621  Xbox One      9              Sports          2016\n",
       "18622  Xbox One      8              Sports          2016\n",
       "18623    iPhone      7              Battle          2016\n",
       "18624    iPhone      5                 RPG          2016"
      ]
     },
     "execution_count": 8,
     "metadata": {},
     "output_type": "execute_result"
    }
   ],
   "source": [
    "#sort_by_year.drop(sort_by_year.index[0],inplace=True)\n",
    "sort_by_year.reset_index(drop = True).tail(10)\n"
   ]
  },
  {
   "cell_type": "code",
   "execution_count": 9,
   "metadata": {},
   "outputs": [],
   "source": [
    "sort_by_year.drop(sort_by_year.index[0],axis=0,inplace=True)"
   ]
  },
  {
   "cell_type": "code",
   "execution_count": 10,
   "metadata": {},
   "outputs": [
    {
     "data": {
      "text/html": [
       "<div>\n",
       "<style scoped>\n",
       "    .dataframe tbody tr th:only-of-type {\n",
       "        vertical-align: middle;\n",
       "    }\n",
       "\n",
       "    .dataframe tbody tr th {\n",
       "        vertical-align: top;\n",
       "    }\n",
       "\n",
       "    .dataframe thead th {\n",
       "        text-align: right;\n",
       "    }\n",
       "</style>\n",
       "<table border=\"1\" class=\"dataframe\">\n",
       "  <thead>\n",
       "    <tr style=\"text-align: right;\">\n",
       "      <th></th>\n",
       "      <th>score</th>\n",
       "      <th>release_year</th>\n",
       "    </tr>\n",
       "  </thead>\n",
       "  <tbody>\n",
       "    <tr>\n",
       "      <th>count</th>\n",
       "      <td>18624.000000</td>\n",
       "      <td>18624.000000</td>\n",
       "    </tr>\n",
       "    <tr>\n",
       "      <th>mean</th>\n",
       "      <td>6.627685</td>\n",
       "      <td>2006.517290</td>\n",
       "    </tr>\n",
       "    <tr>\n",
       "      <th>std</th>\n",
       "      <td>1.702303</td>\n",
       "      <td>4.579841</td>\n",
       "    </tr>\n",
       "    <tr>\n",
       "      <th>min</th>\n",
       "      <td>0.000000</td>\n",
       "      <td>1996.000000</td>\n",
       "    </tr>\n",
       "    <tr>\n",
       "      <th>25%</th>\n",
       "      <td>6.000000</td>\n",
       "      <td>2003.000000</td>\n",
       "    </tr>\n",
       "    <tr>\n",
       "      <th>50%</th>\n",
       "      <td>7.000000</td>\n",
       "      <td>2007.000000</td>\n",
       "    </tr>\n",
       "    <tr>\n",
       "      <th>75%</th>\n",
       "      <td>8.000000</td>\n",
       "      <td>2010.000000</td>\n",
       "    </tr>\n",
       "    <tr>\n",
       "      <th>max</th>\n",
       "      <td>10.000000</td>\n",
       "      <td>2016.000000</td>\n",
       "    </tr>\n",
       "  </tbody>\n",
       "</table>\n",
       "</div>"
      ],
      "text/plain": [
       "              score  release_year\n",
       "count  18624.000000  18624.000000\n",
       "mean       6.627685   2006.517290\n",
       "std        1.702303      4.579841\n",
       "min        0.000000   1996.000000\n",
       "25%        6.000000   2003.000000\n",
       "50%        7.000000   2007.000000\n",
       "75%        8.000000   2010.000000\n",
       "max       10.000000   2016.000000"
      ]
     },
     "execution_count": 10,
     "metadata": {},
     "output_type": "execute_result"
    }
   ],
   "source": [
    "sort_by_year.isnull().any()\n",
    "sort_by_year.describe()\n"
   ]
  },
  {
   "cell_type": "code",
   "execution_count": 11,
   "metadata": {},
   "outputs": [
    {
     "data": {
      "text/html": [
       "<div>\n",
       "<style scoped>\n",
       "    .dataframe tbody tr th:only-of-type {\n",
       "        vertical-align: middle;\n",
       "    }\n",
       "\n",
       "    .dataframe tbody tr th {\n",
       "        vertical-align: top;\n",
       "    }\n",
       "\n",
       "    .dataframe thead th {\n",
       "        text-align: right;\n",
       "    }\n",
       "</style>\n",
       "<table border=\"1\" class=\"dataframe\">\n",
       "  <thead>\n",
       "    <tr style=\"text-align: right;\">\n",
       "      <th></th>\n",
       "      <th>score</th>\n",
       "      <th>release_year</th>\n",
       "    </tr>\n",
       "  </thead>\n",
       "  <tbody>\n",
       "    <tr>\n",
       "      <th>count</th>\n",
       "      <td>18588.000000</td>\n",
       "      <td>18588.000000</td>\n",
       "    </tr>\n",
       "    <tr>\n",
       "      <th>mean</th>\n",
       "      <td>6.627771</td>\n",
       "      <td>2006.510598</td>\n",
       "    </tr>\n",
       "    <tr>\n",
       "      <th>std</th>\n",
       "      <td>1.702611</td>\n",
       "      <td>4.580990</td>\n",
       "    </tr>\n",
       "    <tr>\n",
       "      <th>min</th>\n",
       "      <td>0.000000</td>\n",
       "      <td>1996.000000</td>\n",
       "    </tr>\n",
       "    <tr>\n",
       "      <th>25%</th>\n",
       "      <td>6.000000</td>\n",
       "      <td>2003.000000</td>\n",
       "    </tr>\n",
       "    <tr>\n",
       "      <th>50%</th>\n",
       "      <td>7.000000</td>\n",
       "      <td>2007.000000</td>\n",
       "    </tr>\n",
       "    <tr>\n",
       "      <th>75%</th>\n",
       "      <td>8.000000</td>\n",
       "      <td>2010.000000</td>\n",
       "    </tr>\n",
       "    <tr>\n",
       "      <th>max</th>\n",
       "      <td>10.000000</td>\n",
       "      <td>2016.000000</td>\n",
       "    </tr>\n",
       "  </tbody>\n",
       "</table>\n",
       "</div>"
      ],
      "text/plain": [
       "              score  release_year\n",
       "count  18588.000000  18588.000000\n",
       "mean       6.627771   2006.510598\n",
       "std        1.702611      4.580990\n",
       "min        0.000000   1996.000000\n",
       "25%        6.000000   2003.000000\n",
       "50%        7.000000   2007.000000\n",
       "75%        8.000000   2010.000000\n",
       "max       10.000000   2016.000000"
      ]
     },
     "execution_count": 11,
     "metadata": {},
     "output_type": "execute_result"
    }
   ],
   "source": [
    "sort_by_year.dropna(inplace=True)\n",
    "sort_by_year.describe()"
   ]
  },
  {
   "cell_type": "code",
   "execution_count": 12,
   "metadata": {},
   "outputs": [],
   "source": [
    "list_genre = sort_by_year['genre'].unique().tolist()"
   ]
  },
  {
   "cell_type": "code",
   "execution_count": 13,
   "metadata": {},
   "outputs": [
    {
     "name": "stdout",
     "output_type": "stream",
     "text": [
      "112\n",
      "['Action', 'Fighting', 'Flight', 'Platformer', 'Racing', 'Sports', 'Action, Adventure', 'Action, Compilation', 'Adventure', 'Compilation', 'Flight, Action', 'Puzzle', 'RPG', 'Racing, Action', 'Shooter', 'Simulation', 'Strategy', 'Wrestling', 'Action, RPG', 'Casino', 'Fighting, Compilation', 'Hunting', 'Music', 'Pinball', 'Puzzle, Action', 'Sports, Action', 'Battle', 'Board', 'Sports, Racing', 'Action, Simulation', 'Flight, Simulation', 'Sports, Simulation', 'Trivia', 'Music, Action', 'Strategy, RPG', 'Fighting, Action', 'Other', 'Party', 'Action, Platformer', 'Puzzle, Adventure', 'Educational, Puzzle', 'Productivity', 'Virtual Pet', 'Racing, Simulation', 'Card, Battle', 'Sports, Editor', 'Music, Editor', 'RPG, Editor', 'Educational, Action', 'Card', 'Card, RPG', 'Fighting, Adventure', 'Wrestling, Simulation', 'RPG, Compilation', 'RPG, Simulation', 'Flight, Racing', 'Sports, Compilation', 'Shooter, Platformer', 'Hunting, Simulation', 'Fighting, RPG', 'Pinball, Compilation', 'Card, Compilation', 'Racing, Compilation', 'Racing, Editor', 'Racing, Shooter', 'Other, Action', 'Puzzle, Compilation', 'Adult, Card', 'Educational', 'Educational, Productivity', 'Educational, Simulation', 'Educational, Trivia', 'Compilation, Compilation', 'Board, Compilation', 'Platformer, Action', 'Action, Editor', 'Hunting, Action', 'Puzzle, Word Game', 'Adventure, Compilation', 'Educational, Card', 'Educational, Adventure', 'Strategy, Compilation', 'Music, Compilation', 'Fighting, Simulation', 'Platformer, Adventure', 'Shooter, RPG', 'Other, Adventure', 'Simulation, Adventure', 'Adventure, Episodic', 'Adventure, Adult', 'Adventure, Platformer', 'Action, Puzzle', 'Sports, Fighting', 'Puzzle, RPG', 'Music, RPG', 'Adventure, Adventure', 'Adventure, RPG', 'Productivity, Action', 'RPG, Action', 'Shooter, First-Person', 'Baseball', 'Compilation, RPG', 'Sports, Baseball', 'Sports, Other', 'Sports, Party', 'Puzzle, Platformer', 'Action, Strategy', 'Music, Adventure', 'Strategy, Simulation', 'Sports, Golf', 'Hardware', 'Shooter, Adventure']\n"
     ]
    }
   ],
   "source": [
    "print(len(list_genre))\n",
    "print(list_genre)"
   ]
  },
  {
   "cell_type": "code",
   "execution_count": 60,
   "metadata": {},
   "outputs": [],
   "source": [
    "replace_genre = {'Action':'Action', 'Action, Adventure':'Action', 'Action, Compilation':'Action', 'Action, Platformer':'Action', 'Action, RPG':'RPG',\n",
    "                 'Action, Simulation':'Simulation', 'Adventure':'Adventure','Battle':'Action', 'Board':'Strategy', 'Card':'Strategy', 'Card, Battle':'Strategy', \n",
    "                 'Card, RPG':'RPG', 'Casino':'Others', 'Compilation':'Others', 'Educational, Action':'Others','Educational, Puzzle':'Strategy',\n",
    "                 'Fighting':'Action', 'Fighting, Action':'Action', 'Fighting, Adventure':'Adventure', 'Fighting, Compilation':'Action', 'Flight':'Adventure',\n",
    "                 'Flight,Action':'Action', 'Flight, Racing':'Sports', 'Flight, Simulation':'Simulation', 'Hunting':'Sports', 'Music':'Other', 'Music, Action':'Action',\n",
    "                 'Music, Editor':'Simulation', 'Other':'Other', 'Party':'Other', 'Pinball':'Sports', 'Platformer':'Other', 'Productivity':'Other', 'Puzzle':'Strategy',\n",
    "                 'Puzzle, Action':'Strategy', 'Puzzle, Adventure':'Strategy', 'RPG':'RPG', 'RPG, Compilation':'RPG', 'RPG, Editor':'RPG', 'RPG, Simulation':'RPG', 'Racing':'Sports',\n",
    "                 'Racing, Action':'Action', 'Racing, Simulation':'Simulation', 'Shooter':'Sports', 'Simulation':'Simulation', 'Sports':'Sports', 'Sports, Action':'Action',\n",
    "                 'Sports, Compilation':'Sports', 'Sports, Editor':'Sports', 'Sports, Racing':'Sports', 'Sports, Simulation':'Simulation', 'Strategy':'Strategy', 'Strategy, RPG':'RPG', \n",
    "                 'Trivia':'Other', 'Virtual Pet':'Simulation', 'Wrestling':'Sports', 'Wrestling, Simulation':'Simulation', 'Action, Editor':'Action', 'Adult, Card':'Other',\n",
    "                 'Board, Compilation':'Other', 'Card, Compilation':'Other', 'Compilation, Compilation':'Other', 'Educational':'Other', 'Educational, Productivity':'Other',\n",
    "                 'Educational, Simulation':'Other', 'Educational, Trivia':'Strategy', 'Fighting, RPG':'RPG', 'Hunting, Action':'Action', 'Hunting, Simulation':'Simulation',\n",
    "                 'Other, Action':'Action', 'Pinball, Compilation':'Other', 'Platformer, Action':'Action', 'Puzzle, Compilation':'Strategy', 'Racing, Compilation':'Sports',\n",
    "                 'Racing, Editor':'Sports', 'Racing, Shooter':'Action', 'Shooter, Platformer':'Action', 'Puzzle, Word Game':'Other', 'Adventure, Compilation':'Action',\n",
    "                 'Educational, Card':'Other', 'Educational, Adventure':'Other', 'Strategy, Compilation':'Strategy', 'Music, Compilation':'Other', 'Fighting, Simulation':'Simulation',\n",
    "                 'Platformer, Adventure':'Simulation', 'Shooter, RPG':'RPG', 'Other, Adventure':'Other', 'Simulation, Adventure':'Simulation', 'Adventure, Episodic':'Simulation',\n",
    "                 'Adventure, Adult':'Simulation', 'Adventure, Platformer':'Simulation', 'Action, Puzzle':'Other', 'Sports, Fighting':'Sports', 'Puzzle, RPG':'RPG', 'Music, RPG':'RPG',\n",
    "                 'Adventure, Adventure':'Action', 'Adventure, RPG':'RPG', 'Productivity, Action':'Action', 'RPG, Action':'RPG', 'Shooter, First-Person':'Action',\n",
    "                 'Baseball':'Sports', 'Compilation, RPG':'RPG', 'Sports, Baseball':'Sports', 'Sports, Other':'Sports', 'Sports, Party':'Sports', 'Puzzle, Platformer':'Other',\n",
    "                 'Action, Strategy':'Strategy', 'Music, Adventure':'Other', 'Strategy, Simulation':'Strategy', 'Sports, Golf':'Sports', 'Hardware':'Other', 'Shooter, Adventure':'Action'}                                                                                          \n",
    "\n",
    "genres = sort_by_year.genre.map(replace_genre)    "
   ]
  },
  {
   "cell_type": "code",
   "execution_count": 61,
   "metadata": {},
   "outputs": [],
   "source": [
    "df = pd.DataFrame(genres)"
   ]
  },
  {
   "cell_type": "code",
   "execution_count": 62,
   "metadata": {},
   "outputs": [
    {
     "data": {
      "text/html": [
       "<div>\n",
       "<style scoped>\n",
       "    .dataframe tbody tr th:only-of-type {\n",
       "        vertical-align: middle;\n",
       "    }\n",
       "\n",
       "    .dataframe tbody tr th {\n",
       "        vertical-align: top;\n",
       "    }\n",
       "\n",
       "    .dataframe thead th {\n",
       "        text-align: right;\n",
       "    }\n",
       "</style>\n",
       "<table border=\"1\" class=\"dataframe\">\n",
       "  <thead>\n",
       "    <tr style=\"text-align: right;\">\n",
       "      <th></th>\n",
       "      <th>genre</th>\n",
       "    </tr>\n",
       "  </thead>\n",
       "  <tbody>\n",
       "    <tr>\n",
       "      <th>0</th>\n",
       "      <td>Action</td>\n",
       "    </tr>\n",
       "    <tr>\n",
       "      <th>1</th>\n",
       "      <td>Action</td>\n",
       "    </tr>\n",
       "    <tr>\n",
       "      <th>2</th>\n",
       "      <td>Action</td>\n",
       "    </tr>\n",
       "    <tr>\n",
       "      <th>3</th>\n",
       "      <td>Adventure</td>\n",
       "    </tr>\n",
       "    <tr>\n",
       "      <th>4</th>\n",
       "      <td>Other</td>\n",
       "    </tr>\n",
       "  </tbody>\n",
       "</table>\n",
       "</div>"
      ],
      "text/plain": [
       "       genre\n",
       "0     Action\n",
       "1     Action\n",
       "2     Action\n",
       "3  Adventure\n",
       "4      Other"
      ]
     },
     "execution_count": 62,
     "metadata": {},
     "output_type": "execute_result"
    }
   ],
   "source": [
    "df.head()"
   ]
  },
  {
   "cell_type": "code",
   "execution_count": 63,
   "metadata": {},
   "outputs": [],
   "source": [
    "sort_by_year['genre'] = df['genre']"
   ]
  },
  {
   "cell_type": "code",
   "execution_count": 64,
   "metadata": {},
   "outputs": [],
   "source": [
    "sort_by_year.reset_index(inplace=True)"
   ]
  },
  {
   "cell_type": "code",
   "execution_count": 65,
   "metadata": {},
   "outputs": [],
   "source": [
    "#sort_by_year.drop(['index'], axis=1, inplace=True)"
   ]
  },
  {
   "cell_type": "code",
   "execution_count": 66,
   "metadata": {},
   "outputs": [
    {
     "data": {
      "text/html": [
       "<div>\n",
       "<style scoped>\n",
       "    .dataframe tbody tr th:only-of-type {\n",
       "        vertical-align: middle;\n",
       "    }\n",
       "\n",
       "    .dataframe tbody tr th {\n",
       "        vertical-align: top;\n",
       "    }\n",
       "\n",
       "    .dataframe thead th {\n",
       "        text-align: right;\n",
       "    }\n",
       "</style>\n",
       "<table border=\"1\" class=\"dataframe\">\n",
       "  <thead>\n",
       "    <tr style=\"text-align: right;\">\n",
       "      <th></th>\n",
       "      <th>level_0</th>\n",
       "      <th>index</th>\n",
       "      <th>score</th>\n",
       "      <th>release_year</th>\n",
       "    </tr>\n",
       "  </thead>\n",
       "  <tbody>\n",
       "    <tr>\n",
       "      <th>count</th>\n",
       "      <td>18588.000000</td>\n",
       "      <td>18588.000000</td>\n",
       "      <td>18588.000000</td>\n",
       "      <td>18588.000000</td>\n",
       "    </tr>\n",
       "    <tr>\n",
       "      <th>mean</th>\n",
       "      <td>9293.500000</td>\n",
       "      <td>9293.500000</td>\n",
       "      <td>6.627771</td>\n",
       "      <td>2006.510598</td>\n",
       "    </tr>\n",
       "    <tr>\n",
       "      <th>std</th>\n",
       "      <td>5366.037737</td>\n",
       "      <td>5366.037737</td>\n",
       "      <td>1.702611</td>\n",
       "      <td>4.580990</td>\n",
       "    </tr>\n",
       "    <tr>\n",
       "      <th>min</th>\n",
       "      <td>0.000000</td>\n",
       "      <td>0.000000</td>\n",
       "      <td>0.000000</td>\n",
       "      <td>1996.000000</td>\n",
       "    </tr>\n",
       "    <tr>\n",
       "      <th>25%</th>\n",
       "      <td>4646.750000</td>\n",
       "      <td>4646.750000</td>\n",
       "      <td>6.000000</td>\n",
       "      <td>2003.000000</td>\n",
       "    </tr>\n",
       "    <tr>\n",
       "      <th>50%</th>\n",
       "      <td>9293.500000</td>\n",
       "      <td>9293.500000</td>\n",
       "      <td>7.000000</td>\n",
       "      <td>2007.000000</td>\n",
       "    </tr>\n",
       "    <tr>\n",
       "      <th>75%</th>\n",
       "      <td>13940.250000</td>\n",
       "      <td>13940.250000</td>\n",
       "      <td>8.000000</td>\n",
       "      <td>2010.000000</td>\n",
       "    </tr>\n",
       "    <tr>\n",
       "      <th>max</th>\n",
       "      <td>18587.000000</td>\n",
       "      <td>18587.000000</td>\n",
       "      <td>10.000000</td>\n",
       "      <td>2016.000000</td>\n",
       "    </tr>\n",
       "  </tbody>\n",
       "</table>\n",
       "</div>"
      ],
      "text/plain": [
       "            level_0         index         score  release_year\n",
       "count  18588.000000  18588.000000  18588.000000  18588.000000\n",
       "mean    9293.500000   9293.500000      6.627771   2006.510598\n",
       "std     5366.037737   5366.037737      1.702611      4.580990\n",
       "min        0.000000      0.000000      0.000000   1996.000000\n",
       "25%     4646.750000   4646.750000      6.000000   2003.000000\n",
       "50%     9293.500000   9293.500000      7.000000   2007.000000\n",
       "75%    13940.250000  13940.250000      8.000000   2010.000000\n",
       "max    18587.000000  18587.000000     10.000000   2016.000000"
      ]
     },
     "execution_count": 66,
     "metadata": {},
     "output_type": "execute_result"
    }
   ],
   "source": [
    "sort_by_year.describe()"
   ]
  },
  {
   "cell_type": "code",
   "execution_count": 67,
   "metadata": {},
   "outputs": [
    {
     "data": {
      "text/plain": [
       "<matplotlib.axes._subplots.AxesSubplot at 0x19b8e094f98>"
      ]
     },
     "execution_count": 67,
     "metadata": {},
     "output_type": "execute_result"
    },
    {
     "data": {
      "image/png": "[encoded data removed]",
      "text/plain": [
       "<matplotlib.figure.Figure at 0x19b8f84d518>"
      ]
     },
     "metadata": {},
     "output_type": "display_data"
    }
   ],
   "source": [
    "sort_by_year['genre'].hist(bins=5)"
   ]
  },
  {
   "cell_type": "code",
   "execution_count": 68,
   "metadata": {},
   "outputs": [
    {
     "data": {
      "text/plain": [
       "<matplotlib.axes._subplots.AxesSubplot at 0x19b8ff07dd8>"
      ]
     },
     "execution_count": 68,
     "metadata": {},
     "output_type": "execute_result"
    },
    {
     "data": {
      "image/png": "[encoded data removed]",
      "text/plain": [
       "<matplotlib.figure.Figure at 0x19b900da898>"
      ]
     },
     "metadata": {},
     "output_type": "display_data"
    }
   ],
   "source": [
    "sort_by_year.genre.value_counts().plot(kind='bar', figsize=(10,5))"
   ]
  },
  {
   "cell_type": "code",
   "execution_count": 20,
   "metadata": {},
   "outputs": [],
   "source": [
    "grp_by = sort_by_year.groupby (['release_year','genre','score'])"
   ]
  },
  {
   "cell_type": "code",
   "execution_count": 71,
   "metadata": {},
   "outputs": [
    {
     "ename": "AttributeError",
     "evalue": "Cannot access callable attribute 'groupby' of 'DataFrameGroupBy' objects, try using the 'apply' method",
     "output_type": "error",
     "traceback": [
      "\u001b[1;31m---------------------------------------------------------------------------\u001b[0m",
      "\u001b[1;31mAttributeError\u001b[0m                            Traceback (most recent call last)",
      "\u001b[1;32m<ipython-input-71-087f2747c9de>\u001b[0m in \u001b[0;36m<module>\u001b[1;34m()\u001b[0m\n\u001b[1;32m----> 1\u001b[1;33m \u001b[0mgrp_by\u001b[0m\u001b[1;33m.\u001b[0m\u001b[0mgroupby\u001b[0m\u001b[1;33m\u001b[0m\u001b[0m\n\u001b[0m",
      "\u001b[1;32m~\\Anaconda3\\lib\\site-packages\\pandas\\core\\groupby.py\u001b[0m in \u001b[0;36m__getattr__\u001b[1;34m(self, attr)\u001b[0m\n\u001b[0;32m    671\u001b[0m             \u001b[1;32mreturn\u001b[0m \u001b[0mself\u001b[0m\u001b[1;33m[\u001b[0m\u001b[0mattr\u001b[0m\u001b[1;33m]\u001b[0m\u001b[1;33m\u001b[0m\u001b[0m\n\u001b[0;32m    672\u001b[0m         \u001b[1;32mif\u001b[0m \u001b[0mhasattr\u001b[0m\u001b[1;33m(\u001b[0m\u001b[0mself\u001b[0m\u001b[1;33m.\u001b[0m\u001b[0mobj\u001b[0m\u001b[1;33m,\u001b[0m \u001b[0mattr\u001b[0m\u001b[1;33m)\u001b[0m\u001b[1;33m:\u001b[0m\u001b[1;33m\u001b[0m\u001b[0m\n\u001b[1;32m--> 673\u001b[1;33m             \u001b[1;32mreturn\u001b[0m \u001b[0mself\u001b[0m\u001b[1;33m.\u001b[0m\u001b[0m_make_wrapper\u001b[0m\u001b[1;33m(\u001b[0m\u001b[0mattr\u001b[0m\u001b[1;33m)\u001b[0m\u001b[1;33m\u001b[0m\u001b[0m\n\u001b[0m\u001b[0;32m    674\u001b[0m \u001b[1;33m\u001b[0m\u001b[0m\n\u001b[0;32m    675\u001b[0m         raise AttributeError(\"%r object has no attribute %r\" %\n",
      "\u001b[1;32m~\\Anaconda3\\lib\\site-packages\\pandas\\core\\groupby.py\u001b[0m in \u001b[0;36m_make_wrapper\u001b[1;34m(self, name)\u001b[0m\n\u001b[0;32m    685\u001b[0m                    \"using the 'apply' method\".format(kind, name,\n\u001b[0;32m    686\u001b[0m                                                      type(self).__name__))\n\u001b[1;32m--> 687\u001b[1;33m             \u001b[1;32mraise\u001b[0m \u001b[0mAttributeError\u001b[0m\u001b[1;33m(\u001b[0m\u001b[0mmsg\u001b[0m\u001b[1;33m)\u001b[0m\u001b[1;33m\u001b[0m\u001b[0m\n\u001b[0m\u001b[0;32m    688\u001b[0m \u001b[1;33m\u001b[0m\u001b[0m\n\u001b[0;32m    689\u001b[0m         \u001b[1;31m# need to setup the selection\u001b[0m\u001b[1;33m\u001b[0m\u001b[1;33m\u001b[0m\u001b[0m\n",
      "\u001b[1;31mAttributeError\u001b[0m: Cannot access callable attribute 'groupby' of 'DataFrameGroupBy' objects, try using the 'apply' method"
     ]
    }
   ],
   "source": [
    "grp_by."
   ]
  },
  {
   "cell_type": "code",
   "execution_count": 22,
   "metadata": {},
   "outputs": [],
   "source": [
    "count_score = grp_by.size().reset_index()"
   ]
  },
  {
   "cell_type": "code",
   "execution_count": 34,
   "metadata": {},
   "outputs": [
    {
     "data": {
      "text/html": [
       "<div>\n",
       "<style scoped>\n",
       "    .dataframe tbody tr th:only-of-type {\n",
       "        vertical-align: middle;\n",
       "    }\n",
       "\n",
       "    .dataframe tbody tr th {\n",
       "        vertical-align: top;\n",
       "    }\n",
       "\n",
       "    .dataframe thead th {\n",
       "        text-align: right;\n",
       "    }\n",
       "</style>\n",
       "<table border=\"1\" class=\"dataframe\">\n",
       "  <thead>\n",
       "    <tr style=\"text-align: right;\">\n",
       "      <th></th>\n",
       "      <th>platform</th>\n",
       "      <th>score</th>\n",
       "      <th>genre</th>\n",
       "      <th>release_year</th>\n",
       "    </tr>\n",
       "  </thead>\n",
       "  <tbody>\n",
       "    <tr>\n",
       "      <th>0</th>\n",
       "      <td>Nintendo 64</td>\n",
       "      <td>6</td>\n",
       "      <td>Action</td>\n",
       "      <td>1996</td>\n",
       "    </tr>\n",
       "    <tr>\n",
       "      <th>1</th>\n",
       "      <td>Nintendo 64</td>\n",
       "      <td>4</td>\n",
       "      <td>Action</td>\n",
       "      <td>1996</td>\n",
       "    </tr>\n",
       "    <tr>\n",
       "      <th>2</th>\n",
       "      <td>Nintendo 64</td>\n",
       "      <td>6</td>\n",
       "      <td>Action</td>\n",
       "      <td>1996</td>\n",
       "    </tr>\n",
       "    <tr>\n",
       "      <th>3</th>\n",
       "      <td>Nintendo 64</td>\n",
       "      <td>8</td>\n",
       "      <td>Adventure</td>\n",
       "      <td>1996</td>\n",
       "    </tr>\n",
       "    <tr>\n",
       "      <th>4</th>\n",
       "      <td>Nintendo 64</td>\n",
       "      <td>9</td>\n",
       "      <td>Other</td>\n",
       "      <td>1996</td>\n",
       "    </tr>\n",
       "    <tr>\n",
       "      <th>5</th>\n",
       "      <td>Nintendo 64</td>\n",
       "      <td>9</td>\n",
       "      <td>Sports</td>\n",
       "      <td>1996</td>\n",
       "    </tr>\n",
       "    <tr>\n",
       "      <th>6</th>\n",
       "      <td>Nintendo 64</td>\n",
       "      <td>4</td>\n",
       "      <td>Sports</td>\n",
       "      <td>1996</td>\n",
       "    </tr>\n",
       "    <tr>\n",
       "      <th>7</th>\n",
       "      <td>Nintendo 64</td>\n",
       "      <td>7</td>\n",
       "      <td>Sports</td>\n",
       "      <td>1996</td>\n",
       "    </tr>\n",
       "    <tr>\n",
       "      <th>8</th>\n",
       "      <td>PC</td>\n",
       "      <td>6</td>\n",
       "      <td>Sports</td>\n",
       "      <td>1996</td>\n",
       "    </tr>\n",
       "    <tr>\n",
       "      <th>9</th>\n",
       "      <td>PlayStation</td>\n",
       "      <td>3</td>\n",
       "      <td>Action</td>\n",
       "      <td>1996</td>\n",
       "    </tr>\n",
       "  </tbody>\n",
       "</table>\n",
       "</div>"
      ],
      "text/plain": [
       "      platform  score      genre  release_year\n",
       "0  Nintendo 64      6     Action          1996\n",
       "1  Nintendo 64      4     Action          1996\n",
       "2  Nintendo 64      6     Action          1996\n",
       "3  Nintendo 64      8  Adventure          1996\n",
       "4  Nintendo 64      9      Other          1996\n",
       "5  Nintendo 64      9     Sports          1996\n",
       "6  Nintendo 64      4     Sports          1996\n",
       "7  Nintendo 64      7     Sports          1996\n",
       "8           PC      6     Sports          1996\n",
       "9  PlayStation      3     Action          1996"
      ]
     },
     "execution_count": 34,
     "metadata": {},
     "output_type": "execute_result"
    }
   ],
   "source": [
    "sort_by_year.head(10)"
   ]
  },
  {
   "cell_type": "code",
   "execution_count": 31,
   "metadata": {},
   "outputs": [
    {
     "data": {
      "text/plain": [
       "18463"
      ]
     },
     "execution_count": 31,
     "metadata": {},
     "output_type": "execute_result"
    }
   ],
   "source": [
    "sort_by_year.genre.count()"
   ]
  },
  {
   "cell_type": "code",
   "execution_count": 36,
   "metadata": {},
   "outputs": [],
   "source": [
    "genre = sort_by_year[sort_by_year.genre == 'Action']"
   ]
  },
  {
   "cell_type": "code",
   "execution_count": 38,
   "metadata": {},
   "outputs": [
    {
     "data": {
      "text/plain": [
       "platform        5811\n",
       "score           5811\n",
       "genre           5811\n",
       "release_year    5811\n",
       "dtype: int64"
      ]
     },
     "execution_count": 38,
     "metadata": {},
     "output_type": "execute_result"
    }
   ],
   "source": [
    "genre.count()"
   ]
  },
  {
   "cell_type": "code",
   "execution_count": null,
   "metadata": {},
   "outputs": [],
   "source": []
  }
 ],
 "metadata": {
  "kernelspec": {
   "display_name": "Python 3",
   "language": "python",
   "name": "python3"
  },
  "language_info": {
   "codemirror_mode": {
    "name": "ipython",
    "version": 3
   },
   "file_extension": ".py",
   "mimetype": "text/x-python",
   "name": "python",
   "nbconvert_exporter": "python",
   "pygments_lexer": "ipython3",
   "version": "3.6.4"
  }
 },
 "nbformat": 4,
 "nbformat_minor": 2
}
